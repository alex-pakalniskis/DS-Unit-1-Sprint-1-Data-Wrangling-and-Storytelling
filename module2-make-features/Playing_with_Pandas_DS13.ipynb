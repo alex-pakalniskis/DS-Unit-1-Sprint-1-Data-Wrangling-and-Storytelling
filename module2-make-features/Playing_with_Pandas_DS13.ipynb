{
  "nbformat": 4,
  "nbformat_minor": 0,
  "metadata": {
    "colab": {
      "name": "Playing with Pandas DS13.ipynb",
      "provenance": [],
      "collapsed_sections": [],
      "include_colab_link": true
    },
    "kernelspec": {
      "name": "python3",
      "display_name": "Python 3"
    }
  },
  "cells": [
    {
      "cell_type": "markdown",
      "metadata": {
        "id": "view-in-github",
        "colab_type": "text"
      },
      "source": [
        "<a href=\"https://colab.research.google.com/github/alex-pakalniskis/DS-Unit-1-Sprint-1-Data-Wrangling-and-Storytelling/blob/master/module2-make-features/Playing_with_Pandas_DS13.ipynb\" target=\"_parent\"><img src=\"https://colab.research.google.com/assets/colab-badge.svg\" alt=\"Open In Colab\"/></a>"
      ]
    },
    {
      "cell_type": "markdown",
      "metadata": {
        "id": "qMuqtpAcfCr3",
        "colab_type": "text"
      },
      "source": [
        "1) Import data (Landslide data from NASA):\n",
        "https://query.data.world/s/h63v5sypgtnhkpevtqbdf3v472ppic\n"
      ]
    },
    {
      "cell_type": "code",
      "metadata": {
        "id": "CxbMufBWfBrf",
        "colab_type": "code",
        "colab": {}
      },
      "source": [
        "import pandas as pd\n",
        "\n",
        "data_url = \"https://query.data.world/s/h63v5sypgtnhkpevtqbdf3v472ppic\"\n",
        "\n",
        "df = pd.read_csv(data_url)"
      ],
      "execution_count": 0,
      "outputs": []
    },
    {
      "cell_type": "markdown",
      "metadata": {
        "id": "wUL1qg9XfNjL",
        "colab_type": "text"
      },
      "source": [
        "\n",
        "2) Get a look at the data:\n",
        "Print the head of the data."
      ]
    },
    {
      "cell_type": "code",
      "metadata": {
        "id": "J38NJE0YfT6p",
        "colab_type": "code",
        "colab": {
          "base_uri": "https://localhost:8080/",
          "height": 564
        },
        "outputId": "4ea548ce-40e2-4a35-be0f-2fdfb5a3c42c"
      },
      "source": [
        "df.head()"
      ],
      "execution_count": 3,
      "outputs": [
        {
          "output_type": "execute_result",
          "data": {
            "text/html": [
              "<div>\n",
              "<style scoped>\n",
              "    .dataframe tbody tr th:only-of-type {\n",
              "        vertical-align: middle;\n",
              "    }\n",
              "\n",
              "    .dataframe tbody tr th {\n",
              "        vertical-align: top;\n",
              "    }\n",
              "\n",
              "    .dataframe thead th {\n",
              "        text-align: right;\n",
              "    }\n",
              "</style>\n",
              "<table border=\"1\" class=\"dataframe\">\n",
              "  <thead>\n",
              "    <tr style=\"text-align: right;\">\n",
              "      <th></th>\n",
              "      <th>id</th>\n",
              "      <th>date</th>\n",
              "      <th>time</th>\n",
              "      <th>country</th>\n",
              "      <th>nearest_places</th>\n",
              "      <th>hazard_type</th>\n",
              "      <th>landslide_type</th>\n",
              "      <th>trigger</th>\n",
              "      <th>storm_name</th>\n",
              "      <th>fatalities</th>\n",
              "      <th>injuries</th>\n",
              "      <th>source_name</th>\n",
              "      <th>source_link</th>\n",
              "      <th>location_description</th>\n",
              "      <th>location_accuracy</th>\n",
              "      <th>landslide_size</th>\n",
              "      <th>photos_link</th>\n",
              "      <th>cat_src</th>\n",
              "      <th>cat_id</th>\n",
              "      <th>countryname</th>\n",
              "      <th>near</th>\n",
              "      <th>distance</th>\n",
              "      <th>adminname1</th>\n",
              "      <th>adminname2</th>\n",
              "      <th>population</th>\n",
              "      <th>countrycode</th>\n",
              "      <th>continentcode</th>\n",
              "      <th>key</th>\n",
              "      <th>version</th>\n",
              "      <th>tstamp</th>\n",
              "      <th>changeset_id</th>\n",
              "      <th>latitude</th>\n",
              "      <th>longitude</th>\n",
              "      <th>geolocation</th>\n",
              "    </tr>\n",
              "  </thead>\n",
              "  <tbody>\n",
              "    <tr>\n",
              "      <th>0</th>\n",
              "      <td>1</td>\n",
              "      <td>01/02/2007</td>\n",
              "      <td>NaN</td>\n",
              "      <td>United Kingdom</td>\n",
              "      <td>Whitehaven, Cumbria</td>\n",
              "      <td>landslide</td>\n",
              "      <td>Landslide</td>\n",
              "      <td>Rain</td>\n",
              "      <td>NaN</td>\n",
              "      <td>1.0</td>\n",
              "      <td>NaN</td>\n",
              "      <td>The Times</td>\n",
              "      <td>http://www.timesonline.co.uk/tol/newspapers/su...</td>\n",
              "      <td>NaN</td>\n",
              "      <td>Known_within_5_km</td>\n",
              "      <td>Medium</td>\n",
              "      <td>NaN</td>\n",
              "      <td>glc</td>\n",
              "      <td>1.0</td>\n",
              "      <td>United Kingdom</td>\n",
              "      <td>Whitehaven</td>\n",
              "      <td>0.22405</td>\n",
              "      <td>England</td>\n",
              "      <td>Cumbria</td>\n",
              "      <td>24803.0</td>\n",
              "      <td>GB</td>\n",
              "      <td>EU</td>\n",
              "      <td>sGaiIKdcW</td>\n",
              "      <td>1.0</td>\n",
              "      <td>Tue Apr 01 2014 00:00:00 GMT+0000 (UTC)</td>\n",
              "      <td>1.0</td>\n",
              "      <td>54.549400</td>\n",
              "      <td>-3.587500</td>\n",
              "      <td>(54.549399999999999, -3.5874999999999999)</td>\n",
              "    </tr>\n",
              "    <tr>\n",
              "      <th>1</th>\n",
              "      <td>2</td>\n",
              "      <td>01/03/2007</td>\n",
              "      <td>NaN</td>\n",
              "      <td>Peru</td>\n",
              "      <td>Alto Mesapata, in the Pasco province</td>\n",
              "      <td>landslide</td>\n",
              "      <td>Complex</td>\n",
              "      <td>Rain</td>\n",
              "      <td>NaN</td>\n",
              "      <td>NaN</td>\n",
              "      <td>NaN</td>\n",
              "      <td>My Opera</td>\n",
              "      <td>http://my.opera.com/bibberle/blog/index.dml/ta...</td>\n",
              "      <td>NaN</td>\n",
              "      <td>Unknown</td>\n",
              "      <td>Medium</td>\n",
              "      <td>NaN</td>\n",
              "      <td>glc</td>\n",
              "      <td>2.0</td>\n",
              "      <td>Peru</td>\n",
              "      <td>Huancabamba</td>\n",
              "      <td>12.26171</td>\n",
              "      <td>Pasco</td>\n",
              "      <td>Provincia de Oxapampa</td>\n",
              "      <td>0.0</td>\n",
              "      <td>PE</td>\n",
              "      <td>SA</td>\n",
              "      <td>S95OsumK4</td>\n",
              "      <td>1.0</td>\n",
              "      <td>Tue Apr 01 2014 00:00:00 GMT+0000 (UTC)</td>\n",
              "      <td>1.0</td>\n",
              "      <td>-10.383800</td>\n",
              "      <td>-75.426700</td>\n",
              "      <td>(-10.383800000000001, -75.426699999999997)</td>\n",
              "    </tr>\n",
              "    <tr>\n",
              "      <th>2</th>\n",
              "      <td>3</td>\n",
              "      <td>01/05/2007</td>\n",
              "      <td>NaN</td>\n",
              "      <td>Brazil</td>\n",
              "      <td>Nova Friburgo, Rio de Janeiro</td>\n",
              "      <td>landslide</td>\n",
              "      <td>Landslide</td>\n",
              "      <td>Rain</td>\n",
              "      <td>NaN</td>\n",
              "      <td>7.0</td>\n",
              "      <td>NaN</td>\n",
              "      <td>Deutsche Presse-Agentur - MonstersandCritics</td>\n",
              "      <td>http://news.monstersandcritics.com/americas/ne...</td>\n",
              "      <td>NaN</td>\n",
              "      <td>Known_within_25_km</td>\n",
              "      <td>Large</td>\n",
              "      <td>NaN</td>\n",
              "      <td>glc</td>\n",
              "      <td>3.0</td>\n",
              "      <td>Brazil</td>\n",
              "      <td>Nova Friburgo</td>\n",
              "      <td>0.63016</td>\n",
              "      <td>Rio de Janeiro</td>\n",
              "      <td>Nova Friburgo</td>\n",
              "      <td>153361.0</td>\n",
              "      <td>BR</td>\n",
              "      <td>SA</td>\n",
              "      <td>D5vlNdgB7</td>\n",
              "      <td>1.0</td>\n",
              "      <td>Tue Apr 01 2014 00:00:00 GMT+0000 (UTC)</td>\n",
              "      <td>1.0</td>\n",
              "      <td>-22.282346</td>\n",
              "      <td>-42.536362</td>\n",
              "      <td>(-22.282346350000001, -42.536362050000001)</td>\n",
              "    </tr>\n",
              "    <tr>\n",
              "      <th>3</th>\n",
              "      <td>4</td>\n",
              "      <td>01/05/2007</td>\n",
              "      <td>NaN</td>\n",
              "      <td>Brazil</td>\n",
              "      <td>Sumidouro, Rio de Janeiro</td>\n",
              "      <td>landslide</td>\n",
              "      <td>Landslide</td>\n",
              "      <td>Rain</td>\n",
              "      <td>NaN</td>\n",
              "      <td>2.0</td>\n",
              "      <td>NaN</td>\n",
              "      <td>Deutsche Presse-Agentur - MonstersandCritics</td>\n",
              "      <td>http://news.monstersandcritics.com/americas/ne...</td>\n",
              "      <td>NaN</td>\n",
              "      <td>Known_within_10_km</td>\n",
              "      <td>Medium</td>\n",
              "      <td>NaN</td>\n",
              "      <td>glc</td>\n",
              "      <td>4.0</td>\n",
              "      <td>Brazil</td>\n",
              "      <td>Carmo</td>\n",
              "      <td>14.05144</td>\n",
              "      <td>Rio de Janeiro</td>\n",
              "      <td>Carmo</td>\n",
              "      <td>11555.0</td>\n",
              "      <td>BR</td>\n",
              "      <td>SA</td>\n",
              "      <td>h5J8IFdc4</td>\n",
              "      <td>1.0</td>\n",
              "      <td>Tue Apr 01 2014 00:00:00 GMT+0000 (UTC)</td>\n",
              "      <td>1.0</td>\n",
              "      <td>-22.045200</td>\n",
              "      <td>-42.673400</td>\n",
              "      <td>(-22.045200000000001, -42.673400000000001)</td>\n",
              "    </tr>\n",
              "    <tr>\n",
              "      <th>4</th>\n",
              "      <td>5</td>\n",
              "      <td>01/05/2007</td>\n",
              "      <td>NaN</td>\n",
              "      <td>Brazil</td>\n",
              "      <td>Jundiai, Sao Paulo</td>\n",
              "      <td>landslide</td>\n",
              "      <td>Landslide</td>\n",
              "      <td>Rain</td>\n",
              "      <td>NaN</td>\n",
              "      <td>1.0</td>\n",
              "      <td>NaN</td>\n",
              "      <td>Deutsche Presse-Agentur - MonstersandCritics</td>\n",
              "      <td>http://news.monstersandcritics.com/americas/ne...</td>\n",
              "      <td>NaN</td>\n",
              "      <td>Known_within_50_km</td>\n",
              "      <td>Medium</td>\n",
              "      <td>NaN</td>\n",
              "      <td>glc</td>\n",
              "      <td>5.0</td>\n",
              "      <td>Brazil</td>\n",
              "      <td>Mairipor√£</td>\n",
              "      <td>10.07582</td>\n",
              "      <td>S√£o Paulo</td>\n",
              "      <td>Mairipor√£</td>\n",
              "      <td>54415.0</td>\n",
              "      <td>BR</td>\n",
              "      <td>SA</td>\n",
              "      <td>s5Zb5FdB4</td>\n",
              "      <td>1.0</td>\n",
              "      <td>Tue Apr 01 2014 00:00:00 GMT+0000 (UTC)</td>\n",
              "      <td>1.0</td>\n",
              "      <td>-23.231100</td>\n",
              "      <td>-46.613600</td>\n",
              "      <td>(-23.231100000000001, -46.613599999999998)</td>\n",
              "    </tr>\n",
              "  </tbody>\n",
              "</table>\n",
              "</div>"
            ],
            "text/plain": [
              "   id        date  ...  longitude                                 geolocation\n",
              "0   1  01/02/2007  ...  -3.587500   (54.549399999999999, -3.5874999999999999)\n",
              "1   2  01/03/2007  ... -75.426700  (-10.383800000000001, -75.426699999999997)\n",
              "2   3  01/05/2007  ... -42.536362  (-22.282346350000001, -42.536362050000001)\n",
              "3   4  01/05/2007  ... -42.673400  (-22.045200000000001, -42.673400000000001)\n",
              "4   5  01/05/2007  ... -46.613600  (-23.231100000000001, -46.613599999999998)\n",
              "\n",
              "[5 rows x 34 columns]"
            ]
          },
          "metadata": {
            "tags": []
          },
          "execution_count": 3
        }
      ]
    },
    {
      "cell_type": "markdown",
      "metadata": {
        "id": "oSD67ik9fVuW",
        "colab_type": "text"
      },
      "source": [
        "3) Create two variables named \"pop\" and \"shape\": \n",
        " Assign the \"pop\" variable to the mean of the population column and the \"shape\" variable to the shape of the dataset.\n"
      ]
    },
    {
      "cell_type": "code",
      "metadata": {
        "id": "UByFeJ2_feuJ",
        "colab_type": "code",
        "colab": {}
      },
      "source": [
        "pop = df[\"population\"].fillna(0).mean()\n",
        "\n",
        "shape = df.shape"
      ],
      "execution_count": 0,
      "outputs": []
    },
    {
      "cell_type": "code",
      "metadata": {
        "id": "Kgo7Ujn3Bio3",
        "colab_type": "code",
        "colab": {
          "base_uri": "https://localhost:8080/",
          "height": 34
        },
        "outputId": "8af5816f-529a-4e5d-ac3d-3ba04adda42e"
      },
      "source": [
        "print(\"The mean population of the data set is \",pop)"
      ],
      "execution_count": 38,
      "outputs": [
        {
          "output_type": "stream",
          "text": [
            "The mean population of the data set is  156317.22406942703\n"
          ],
          "name": "stdout"
        }
      ]
    },
    {
      "cell_type": "code",
      "metadata": {
        "id": "zZbafR_JCX4y",
        "colab_type": "code",
        "colab": {
          "base_uri": "https://localhost:8080/",
          "height": 34
        },
        "outputId": "f29eba15-11e1-471d-91a1-6230cac8a813"
      },
      "source": [
        "print(\"The shape of the dataset is\", shape)"
      ],
      "execution_count": 39,
      "outputs": [
        {
          "output_type": "stream",
          "text": [
            "The shape of the dataset is (9564, 34)\n"
          ],
          "name": "stdout"
        }
      ]
    },
    {
      "cell_type": "markdown",
      "metadata": {
        "id": "gvWG_uH2flNc",
        "colab_type": "text"
      },
      "source": [
        "**STRETCH GOAL:**\n",
        "Finish early? Find the median, mean, and mode of more columns and print them. Done that? Add standard deviation and variance. Play around with display options and print statements to create an output that is accessible to others."
      ]
    },
    {
      "cell_type": "code",
      "metadata": {
        "id": "gv9qEdB-BBzw",
        "colab_type": "code",
        "colab": {
          "base_uri": "https://localhost:8080/",
          "height": 51
        },
        "outputId": "3c4feec0-0126-4b59-81ab-22f76c3117ea"
      },
      "source": [
        "print(\"The standard deviation in landslide fatalities is\",df[\"fatalities\"].fillna(0).std())\n",
        "\n",
        "print(\"The variance in landslide fatalities is\",df[\"fatalities\"].fillna(0).var())"
      ],
      "execution_count": 44,
      "outputs": [
        {
          "output_type": "stream",
          "text": [
            "The standard deviation in landslide fatalities is 59.93686753430112\n",
            "The variance in landslide fatalities is 3592.4280898243596\n"
          ],
          "name": "stdout"
        }
      ]
    },
    {
      "cell_type": "code",
      "metadata": {
        "id": "E0Rr51JhBJMI",
        "colab_type": "code",
        "colab": {
          "base_uri": "https://localhost:8080/",
          "height": 170
        },
        "outputId": "428ef7a4-331b-4024-c651-8e5c59bdb993"
      },
      "source": [
        "df[\"population\"].fillna(0).describe()"
      ],
      "execution_count": 47,
      "outputs": [
        {
          "output_type": "execute_result",
          "data": {
            "text/plain": [
              "count    9.564000e+03\n",
              "mean     1.563172e+05\n",
              "std      8.258236e+05\n",
              "min      0.000000e+00\n",
              "25%      1.894000e+03\n",
              "50%      7.317000e+03\n",
              "75%      3.374800e+04\n",
              "max      1.269184e+07\n",
              "Name: population, dtype: float64"
            ]
          },
          "metadata": {
            "tags": []
          },
          "execution_count": 47
        }
      ]
    },
    {
      "cell_type": "code",
      "metadata": {
        "id": "Iwtsgy7YBvhd",
        "colab_type": "code",
        "colab": {
          "base_uri": "https://localhost:8080/",
          "height": 85
        },
        "outputId": "1b52ec96-b954-4785-f932-cf0970e17d5e"
      },
      "source": [
        "print(\"The mean longitude of landslides is\", df[\"longitude\"].mean())\n",
        "print(\"The median longitude of landslides is\", df[\"longitude\"].median())\n",
        "print(\"The mode longitude of landslides is\", df[\"longitude\"].mode())"
      ],
      "execution_count": 50,
      "outputs": [
        {
          "output_type": "stream",
          "text": [
            "The mean longitude of landslides is 3.815775677909336\n",
            "The median longitude of landslides is 23.18405\n",
            "The mode longitude of landslides is 0    35.4772\n",
            "dtype: float64\n"
          ],
          "name": "stdout"
        }
      ]
    },
    {
      "cell_type": "code",
      "metadata": {
        "id": "wl9XSrKvDd7e",
        "colab_type": "code",
        "colab": {
          "base_uri": "https://localhost:8080/",
          "height": 85
        },
        "outputId": "f61d436b-21c6-4527-f435-1193a05a1393"
      },
      "source": [
        "print(\"The mean latitude of landslides is\", df[\"latitude\"].mean())\n",
        "print(\"The median latitude of landslides is\", df[\"latitude\"].median())\n",
        "print(\"The mode latitude of landslides is\", df[\"latitude\"].mode())"
      ],
      "execution_count": 51,
      "outputs": [
        {
          "output_type": "stream",
          "text": [
            "The mean latitude of landslides is 25.661805920034087\n",
            "The median latitude of landslides is 29.8554\n",
            "The mode latitude of landslides is 0    45.5635\n",
            "dtype: float64\n"
          ],
          "name": "stdout"
        }
      ]
    },
    {
      "cell_type": "code",
      "metadata": {
        "id": "JNoF23YZD4ch",
        "colab_type": "code",
        "colab": {
          "base_uri": "https://localhost:8080/",
          "height": 235
        },
        "outputId": "579c9084-e157-4a80-ad86-a24ee335d3a7"
      },
      "source": [
        "pd.crosstab(pd.qcut(df[\"latitude\"], 5), pd.qcut(df[\"longitude\"], 5))"
      ],
      "execution_count": 55,
      "outputs": [
        {
          "output_type": "execute_result",
          "data": {
            "text/html": [
              "<div>\n",
              "<style scoped>\n",
              "    .dataframe tbody tr th:only-of-type {\n",
              "        vertical-align: middle;\n",
              "    }\n",
              "\n",
              "    .dataframe tbody tr th {\n",
              "        vertical-align: top;\n",
              "    }\n",
              "\n",
              "    .dataframe thead th {\n",
              "        text-align: right;\n",
              "    }\n",
              "</style>\n",
              "<table border=\"1\" class=\"dataframe\">\n",
              "  <thead>\n",
              "    <tr style=\"text-align: right;\">\n",
              "      <th>longitude</th>\n",
              "      <th>(-170.80100000000002, -117.642]</th>\n",
              "      <th>(-117.642, -71.472]</th>\n",
              "      <th>(-71.472, 77.053]</th>\n",
              "      <th>(77.053, 103.886]</th>\n",
              "      <th>(103.886, 179.422]</th>\n",
              "    </tr>\n",
              "    <tr>\n",
              "      <th>latitude</th>\n",
              "      <th></th>\n",
              "      <th></th>\n",
              "      <th></th>\n",
              "      <th></th>\n",
              "      <th></th>\n",
              "    </tr>\n",
              "  </thead>\n",
              "  <tbody>\n",
              "    <tr>\n",
              "      <th>(-46.775999999999996, 9.995]</th>\n",
              "      <td>5</td>\n",
              "      <td>273</td>\n",
              "      <td>472</td>\n",
              "      <td>293</td>\n",
              "      <td>870</td>\n",
              "    </tr>\n",
              "    <tr>\n",
              "      <th>(9.995, 26.087]</th>\n",
              "      <td>59</td>\n",
              "      <td>358</td>\n",
              "      <td>339</td>\n",
              "      <td>438</td>\n",
              "      <td>719</td>\n",
              "    </tr>\n",
              "    <tr>\n",
              "      <th>(26.087, 34.466]</th>\n",
              "      <td>102</td>\n",
              "      <td>130</td>\n",
              "      <td>295</td>\n",
              "      <td>1168</td>\n",
              "      <td>217</td>\n",
              "    </tr>\n",
              "    <tr>\n",
              "      <th>(34.466, 43.686]</th>\n",
              "      <td>448</td>\n",
              "      <td>970</td>\n",
              "      <td>379</td>\n",
              "      <td>12</td>\n",
              "      <td>104</td>\n",
              "    </tr>\n",
              "    <tr>\n",
              "      <th>(43.686, 72.628]</th>\n",
              "      <td>1299</td>\n",
              "      <td>182</td>\n",
              "      <td>427</td>\n",
              "      <td>3</td>\n",
              "      <td>2</td>\n",
              "    </tr>\n",
              "  </tbody>\n",
              "</table>\n",
              "</div>"
            ],
            "text/plain": [
              "longitude                     (-170.80100000000002, -117.642]  ...  (103.886, 179.422]\n",
              "latitude                                                       ...                    \n",
              "(-46.775999999999996, 9.995]                                5  ...                 870\n",
              "(9.995, 26.087]                                            59  ...                 719\n",
              "(26.087, 34.466]                                          102  ...                 217\n",
              "(34.466, 43.686]                                          448  ...                 104\n",
              "(43.686, 72.628]                                         1299  ...                   2\n",
              "\n",
              "[5 rows x 5 columns]"
            ]
          },
          "metadata": {
            "tags": []
          },
          "execution_count": 55
        }
      ]
    },
    {
      "cell_type": "code",
      "metadata": {
        "id": "RCsddu6QD7U-",
        "colab_type": "code",
        "colab": {
          "base_uri": "https://localhost:8080/",
          "height": 336
        },
        "outputId": "1474392b-45b4-4930-879f-af898c8c492e"
      },
      "source": [
        "pd.crosstab(pd.qcut(df[\"latitude\"], 5), pd.qcut(df[\"longitude\"], 5)).plot(kind=\"barh\", figsize=(10,5), title=\"Crosstab of Landslide Locations\");"
      ],
      "execution_count": 63,
      "outputs": [
        {
          "output_type": "display_data",
          "data": {
            "image/png": "[encoded data removed]",
            "text/plain": [
              "<Figure size 720x360 with 1 Axes>"
            ]
          },
          "metadata": {
            "tags": []
          }
        }
      ]
    }
  ]
}